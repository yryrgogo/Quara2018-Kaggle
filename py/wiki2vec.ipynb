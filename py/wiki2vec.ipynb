{
 "cells": [
  {
   "cell_type": "code",
   "execution_count": null,
   "metadata": {},
   "outputs": [],
   "source": [
    "import gc\n",
    "import numpy as np\n",
    "import pandas as pd\n",
    "from itertools import chain\n",
    "from tqdm import tqdm\n",
    "import datetime\n",
    "import re\n",
    "import glob\n",
    "import sys\n",
    "import pickle\n",
    "import os\n",
    "from gensim import corpora, matutils\n",
    "HOME = os.path.expanduser('~')\n",
    "\n",
    "# Original Library\n",
    "sys.path.append(f'{HOME}/kaggle/data_analysis/library/')\n",
    "import utils\n",
    "from pararell_utils import pararell_process\n",
    "\n",
    "# NLP Library\n",
    "from nlp_utils import stems, corpus_word_id\n",
    "from wordnet import search_similar_words\n",
    "\n",
    "logger = utils.logger_func()\n",
    "start_time = \"{0:%Y%m%d_%H%M%S}\".format(datetime.datetime.now())\n",
    "pd.set_option('max_columns', 200)\n",
    "pd.set_option('max_rows', 200)\n",
    "from wikipedia2vec import Wikipedia2Vec\n",
    "\n",
    "wiki2vec = Wikipedia2Vec.load(f'{HOME}/kaggle/data_analysis/word_embedding/jawiki_20180420_300d.txt.bz2')"
   ]
  },
  {
   "cell_type": "code",
   "execution_count": null,
   "metadata": {},
   "outputs": [],
   "source": [
    "print(wiki2vec.get_word_vector('the'))\n",
    "print(wiki2vec.get_entity_vector('Scarlett Johansson'))\n",
    "print(wiki2vec.most_similar(wiki2vec.get_word('yoda'), 5))\n",
    "print(wiki2vec.most_similar(wiki2vec.get_entity('Scarlett Johansson'), 5))"
   ]
  }
 ],
 "metadata": {
  "hide_input": false,
  "kernelspec": {
   "display_name": "Python 3",
   "language": "python",
   "name": "python3"
  },
  "language_info": {
   "codemirror_mode": {
    "name": "ipython",
    "version": 3
   },
   "file_extension": ".py",
   "mimetype": "text/x-python",
   "name": "python",
   "nbconvert_exporter": "python",
   "pygments_lexer": "ipython3",
   "version": "3.6.3"
  }
 },
 "nbformat": 4,
 "nbformat_minor": 2
}
