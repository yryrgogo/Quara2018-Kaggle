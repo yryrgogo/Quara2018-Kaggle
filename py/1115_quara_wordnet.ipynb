{
 "cells": [
  {
   "cell_type": "code",
   "execution_count": 3,
   "metadata": {},
   "outputs": [
    {
     "name": "stdout",
     "output_type": "stream",
     "text": [
      "['United_States', 'United_States_of_America', 'America', 'the_States', 'US', 'U.S.', 'USA', 'U.S.A.']\n",
      "['America']\n"
     ]
    }
   ],
   "source": [
    "import nltk\n",
    "from nltk.corpus import wordnet as wn\n",
    "from nltk import word_tokenize\n",
    "# nltk.download()\n",
    "# sys.exit()\n",
    "for i in wn.synsets('America'):\n",
    "    print(i.lemma_names())"
   ]
  },
  {
   "cell_type": "code",
   "execution_count": null,
   "metadata": {
    "collapsed": true
   },
   "outputs": [],
   "source": [
    "def wordnet_get_lemma(word):\n",
    "    lemma_list = []\n",
    "    for w in wn.synsets(word):\n",
    "        lemma_list+=w.lemma_names()\n",
    "    return list(set(lemma_list) - set([word]))"
   ]
  }
 ],
 "metadata": {
  "kernelspec": {
   "display_name": "Python 3",
   "language": "python",
   "name": "python3"
  },
  "language_info": {
   "codemirror_mode": {
    "name": "ipython",
    "version": 3
   },
   "file_extension": ".py",
   "mimetype": "text/x-python",
   "name": "python",
   "nbconvert_exporter": "python",
   "pygments_lexer": "ipython3",
   "version": "3.6.3"
  }
 },
 "nbformat": 4,
 "nbformat_minor": 2
}
